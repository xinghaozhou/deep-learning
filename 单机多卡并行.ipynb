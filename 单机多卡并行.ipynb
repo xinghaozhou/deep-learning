{
 "cells": [
  {
   "cell_type": "code",
   "execution_count": null,
   "id": "e3b129ea",
   "metadata": {},
   "outputs": [],
   "source": [
    "# 单机多卡并行\n",
    "#  - 一台机器可以安装多个GPU\n",
    "#  - 在训练和预测时, 我们可以将一个小批量计算切割分到多个GPU上来达到加速的目的\n",
    "#  - 常用的切分方案有: \n",
    "#    - 模型并行\n",
    "#    - 数据并行(主要)\n",
    "#    - 通道并行(数据+模型并行)\n",
    "\n",
    "# 数据并行 vs. 模型并行\n",
    "# 数据并行: 将小批量分成n块, 每个GPU拿到完整参数计算一块数据的梯度\n",
    "#   - 通常性能更好, 因为每个GPU算一块, 最后加到一起\n",
    "# 模型并行: 将模型分成n块, 每个GPU拿到一块模型计算他的前向和方向结果\n",
    "#   - 通常用于模型大到单GPU放不下, 效果不好, 因为可能有时候GPU会空着\n",
    "\n",
    "# 数据并行\n",
    "# 1. 读一个数据块\n",
    "# 2. 拿回参数 (分到每个GPU)\n",
    "# 3. 计算梯度\n",
    "# 4. 发出梯度\n",
    "# 5. 更新梯度(梯度加起来)\n",
    "\n",
    "# 总结\n",
    "#  - 当一个模型能用单卡计算时, 通常使用数据并行拓展到多卡上\n",
    "#  - 模型并行则用在超大模型上"
   ]
  }
 ],
 "metadata": {
  "kernelspec": {
   "display_name": "Python 3 (ipykernel)",
   "language": "python",
   "name": "python3"
  },
  "language_info": {
   "codemirror_mode": {
    "name": "ipython",
    "version": 3
   },
   "file_extension": ".py",
   "mimetype": "text/x-python",
   "name": "python",
   "nbconvert_exporter": "python",
   "pygments_lexer": "ipython3",
   "version": "3.10.9"
  }
 },
 "nbformat": 4,
 "nbformat_minor": 5
}
