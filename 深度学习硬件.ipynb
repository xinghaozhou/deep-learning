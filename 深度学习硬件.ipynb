{
 "cells": [
  {
   "cell_type": "code",
   "execution_count": null,
   "id": "31951e4f",
   "metadata": {},
   "outputs": [],
   "source": [
    "# DSP: 数据信号处理\n",
    "#  - 为数字信号处理算法设计: 点积, 卷积, FFT\n",
    "#  - 低功耗，高性能, 比移动的GPU快5倍, 功耗更低\n",
    "#  - VLIW: very long instruction word, 一条指令做上百次乘累加\n",
    "#  - 编程和调试困难\n",
    "#  - 编译器质量一般\n",
    "\n",
    "# FPGA: 可编程阵列\n",
    "#  - 有大量可以用来编程的逻辑单元\n",
    "#  - 可以配置成计算复杂函数: VDHL, Verilog\n",
    "#  - 通常比通用硬件更高效\n",
    "#  - 工具链质量一般\n",
    "#  - 一次编译花费数个小时\n",
    "\n",
    "# AI ASIC\n",
    "# Google TPU是标志性芯片\n",
    "#  - 能够媲美Nvidia GPU\n",
    "#  - 在Google大量部署\n",
    "#  - 核心是systolic array\n",
    "\n",
    "# Systolic Array\n",
    "# 计算单元矩阵\n",
    "# 特别适合做矩阵乘法\n",
    "# 设计和制作相对简单\n",
    "# 对于一般的矩阵乘法, 通过切开和填充匹配SA的大小\n",
    "# 批量输入来降低延时\n",
    "# 通常需要其他硬件单元来处理别的NN操作子, 例如激活层"
   ]
  }
 ],
 "metadata": {
  "kernelspec": {
   "display_name": "Python 3 (ipykernel)",
   "language": "python",
   "name": "python3"
  },
  "language_info": {
   "codemirror_mode": {
    "name": "ipython",
    "version": 3
   },
   "file_extension": ".py",
   "mimetype": "text/x-python",
   "name": "python",
   "nbconvert_exporter": "python",
   "pygments_lexer": "ipython3",
   "version": "3.10.9"
  }
 },
 "nbformat": 4,
 "nbformat_minor": 5
}
