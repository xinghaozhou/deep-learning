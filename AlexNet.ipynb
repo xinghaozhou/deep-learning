{
 "cells": [
  {
   "cell_type": "code",
   "execution_count": 1,
   "id": "877b89a2",
   "metadata": {},
   "outputs": [],
   "source": [
    "# AlexNet\n",
    "# 更深更大的LeNet\n",
    "# 主要改进:\n",
    "#   - 丢弃法\n",
    "#   - ReLu\n",
    "#   - MaxPooling (梯度大, 训练容易)\n",
    "# 计算机视觉方法论的改变\n",
    "#  - (之前) 图片 -> 人工特征提取 -> SVM\n",
    "#  - (之后) 图片 -> 通过CNN学习特征 -> Softmax回归\n",
    "\n",
    "# AlexNet架构\n",
    "#  - image (3x224x224)\n",
    "#  - 11x11 Conv (96), stride 4 (更大的核窗口和步长, 因为图片更大了) (通道数变大)\n",
    "#  - 3x3 Maxpool, stride 2 (更大的池化窗口, 使用最大池化层)\n",
    "#  - 5x5 Conv (256), pad 2 (更多的输出通道)\n",
    "#  - 3x3 Maxpool, stride 2\n",
    "#  - 3个3x3 Conv (384), pad 1\n",
    "#  - 3x3 Maxpool, stride 2\n",
    "#  - Dense (4096)\n",
    "#  - Dense (4096)\n",
    "#  - 1000类输出\n",
    "\n",
    "# 更多细节\n",
    "#  - 激活函数从sigmoid变成ReLu (减缓梯度丢失)\n",
    "#  - 隐藏全连接层后加入丢弃层\n",
    "#  - 数据增强 (截取, 改变颜色, 改变光照)\n",
    "\n",
    "# 总结\n",
    "# - AlexNet是更大更深的LeNet, 10x参数量, 260x计算复杂度\n",
    "# - 新加入丢弃法, ReLu, 最大池化层, 数据增强"
   ]
  },
  {
   "cell_type": "code",
   "execution_count": 2,
   "id": "8527d5f2",
   "metadata": {},
   "outputs": [],
   "source": [
    "import torch\n",
    "from torch import nn\n",
    "from d2l import torch as d2l\n",
    "\n",
    "net = nn.Sequential(\n",
    "    nn.Conv2d(1, 96, kernel_size=11, stride=4, padding=1),\n",
    "    nn.MaxPool2d(kernel_size=3, stride=2),\n",
    "    nn.Conv2d(96, 256, kernel_size=5, padding=2), nn.ReLU(),\n",
    "    nn.MaxPool2d(kernel_size=3, stride=2),\n",
    "    nn.Conv2d(256, 384, kernel_size=3, padding=1), nn.ReLU(),\n",
    "    nn.Conv2d(384, 384, kernel_size=3, padding=1), nn.ReLU(),\n",
    "    nn.Conv2d(384, 256, kernel_size=3, padding=1), nn.ReLU(),\n",
    "    nn.MaxPool2d(kernel_size=3, stride=2), nn.Flatten(),\n",
    "    nn.Linear(6400, 4096), nn.ReLU(), nn.Dropout(p=0.5),\n",
    "    nn.Linear(4096, 4096), nn.ReLU(), nn.Dropout(p=0.5),\n",
    "    nn.Linear(4096, 10))"
   ]
  },
  {
   "cell_type": "code",
   "execution_count": 3,
   "id": "22d3170a",
   "metadata": {},
   "outputs": [
    {
     "name": "stdout",
     "output_type": "stream",
     "text": [
      "Conv2d Output shape:\t torch.Size([1, 96, 54, 54])\n",
      "MaxPool2d Output shape:\t torch.Size([1, 96, 26, 26])\n",
      "Conv2d Output shape:\t torch.Size([1, 256, 26, 26])\n",
      "ReLU Output shape:\t torch.Size([1, 256, 26, 26])\n",
      "MaxPool2d Output shape:\t torch.Size([1, 256, 12, 12])\n",
      "Conv2d Output shape:\t torch.Size([1, 384, 12, 12])\n",
      "ReLU Output shape:\t torch.Size([1, 384, 12, 12])\n",
      "Conv2d Output shape:\t torch.Size([1, 384, 12, 12])\n",
      "ReLU Output shape:\t torch.Size([1, 384, 12, 12])\n",
      "Conv2d Output shape:\t torch.Size([1, 256, 12, 12])\n",
      "ReLU Output shape:\t torch.Size([1, 256, 12, 12])\n",
      "MaxPool2d Output shape:\t torch.Size([1, 256, 5, 5])\n",
      "Flatten Output shape:\t torch.Size([1, 6400])\n",
      "Linear Output shape:\t torch.Size([1, 4096])\n",
      "ReLU Output shape:\t torch.Size([1, 4096])\n",
      "Dropout Output shape:\t torch.Size([1, 4096])\n",
      "Linear Output shape:\t torch.Size([1, 4096])\n",
      "ReLU Output shape:\t torch.Size([1, 4096])\n",
      "Dropout Output shape:\t torch.Size([1, 4096])\n",
      "Linear Output shape:\t torch.Size([1, 10])\n"
     ]
    }
   ],
   "source": [
    "# 构造一个单通道, 来观察每一层的形状\n",
    "X = torch.rand(1, 1, 224, 224)\n",
    "for layer in net:\n",
    "    X = layer(X)\n",
    "    print(layer.__class__.__name__, 'Output shape:\\t', X.shape)"
   ]
  },
  {
   "cell_type": "code",
   "execution_count": 4,
   "id": "405a5d42",
   "metadata": {},
   "outputs": [],
   "source": [
    "# Fashion-MNIST 分辨率低于ImageNet, 我们将它增加到224x224\n",
    "batch_size = 128\n",
    "train_iter, test_iter = d2l.load_data_fashion_mnist(batch_size, resize=224)"
   ]
  },
  {
   "cell_type": "code",
   "execution_count": 5,
   "id": "03ec17e4",
   "metadata": {},
   "outputs": [
    {
     "name": "stderr",
     "output_type": "stream",
     "text": [
      "\n",
      "KeyboardInterrupt\n",
      "\n"
     ]
    }
   ],
   "source": [
    "# 训练AlexNet\n",
    "lr, num_epochs = 0.01, 10\n",
    "d2l.train_ch6(ne, train_iter, test_iter, num_epochs, lr, d2l.try_gpu)"
   ]
  },
  {
   "cell_type": "code",
   "execution_count": null,
   "id": "47ebe1d7",
   "metadata": {},
   "outputs": [],
   "source": []
  }
 ],
 "metadata": {
  "kernelspec": {
   "display_name": "Python 3 (ipykernel)",
   "language": "python",
   "name": "python3"
  },
  "language_info": {
   "codemirror_mode": {
    "name": "ipython",
    "version": 3
   },
   "file_extension": ".py",
   "mimetype": "text/x-python",
   "name": "python",
   "nbconvert_exporter": "python",
   "pygments_lexer": "ipython3",
   "version": "3.10.12"
  }
 },
 "nbformat": 4,
 "nbformat_minor": 5
}
