{
 "cells": [
  {
   "cell_type": "code",
   "execution_count": 27,
   "id": "630a53ee",
   "metadata": {},
   "outputs": [],
   "source": [
    "# 加更多的层总是改进精度吗?\n",
    "#  - Non-nested function classes: 加入的新模有更深的层, 但是不包含子模型的话, 会偏离答案\n",
    "#  - Nested function classes: 加入的新模型, 每次都包含子模型的话, 新的模型会比原来更大, 但是不偏差\n",
    "\n",
    "# 残差块\n",
    "# 串联一个层改变函数, 我们希望能够扩大函数类\n",
    "# 残差块加入快速通道来得到 f(x) = g(x)+x的结构\n",
    "\n",
    "# 原来的: x -> (Weight layer -> Activation function -> Weight layer) = f(x) -> Activation function\n",
    "# 现在的: x -> (Weight layer -> Activation function -> Weight layer) = f(x) = f(x) + x -> Activation function\n",
    "#          -> (捷径) -> Activation function (same)\n",
    "# 就是复杂模型包含小模型\n",
    "\n",
    "# ResNet细节\n",
    "# x -> 3x3 Conv -> Batch Norm -> ReLU -> 3x3 Conv -> Batch Norm -> + -> ReLu\n",
    "# x -> 3x3 Conv -> Batch Norm -> ReLU -> 3x3 Conv -> Batch Norm -> + -> ReLu\n",
    "# x -> 1x1 Conv -> + (1x1的卷积层变换通道, 变到合适的范围)\n",
    "# 可以在在任何的地方\n",
    "\n",
    "# ResNet块\n",
    "#  - 高宽减半ResNet块(步幅2): 在第一卷积层, 步幅为2 \n",
    "#  - 后接多个高宽不变的ResNet块\n",
    "\n",
    "# ResNet架构\n",
    "#  - 类似VGG和GoogleNet的架构但是替换成了ResNet块\n",
    "\n",
    "# 总结\n",
    "#  - 残差块使得很深的网络更加容易训练\n",
    "#  - 残差网络对随后的深层神经网络产生了深远的影响"
   ]
  },
  {
   "cell_type": "code",
   "execution_count": 28,
   "id": "40a332c0",
   "metadata": {},
   "outputs": [],
   "source": [
    "import torch\n",
    "from torch import nn\n",
    "from torch.nn import functional as F\n",
    "from d2l import torch as d2l\n",
    "\n",
    "class Residual(nn.Module):\n",
    "    def __init__(self, input_channels, num_channels, use_1x1conv=False,\n",
    "                 strides=1):\n",
    "        super().__init__()\n",
    "        self.conv1 = nn.Conv2d(input_channels, num_channels, kernel_size=3,\n",
    "                               padding=1, stride=strides)\n",
    "        self.conv2 = nn.Conv2d(num_channels, num_channels, kernel_size=3,\n",
    "                               padding=1)\n",
    "        if use_1x1conv:\n",
    "            self.conv3 = nn.Conv2d(input_channels, num_channels,\n",
    "                                   kernel_size=1, stride=strides)\n",
    "        else:\n",
    "            self.conv3 = None\n",
    "        self.bn1 = nn.BatchNorm2d(num_channels)\n",
    "        self.bn2 = nn.BatchNorm2d(num_channels)\n",
    "        self.relu = nn.ReLU(inplace=True) # 进行原地计算, 省内存\n",
    "    \n",
    "    def forward(self, X):\n",
    "        # 根据上面的图来制作的\n",
    "        Y = F.relu(self.bn1(self.conv1(X)))\n",
    "        Y = self.bn2(self.conv2(Y))\n",
    "        if self.conv3:\n",
    "            X = self.conv3(X)\n",
    "        Y += X # 把 X + Y\n",
    "        return F.relu(Y)"
   ]
  },
  {
   "cell_type": "code",
   "execution_count": 29,
   "id": "bf678337",
   "metadata": {},
   "outputs": [
    {
     "data": {
      "text/plain": [
       "torch.Size([4, 3, 6, 6])"
      ]
     },
     "execution_count": 29,
     "metadata": {},
     "output_type": "execute_result"
    }
   ],
   "source": [
    "# 输入和输出形状一样\n",
    "blk = Residual(3, 3)\n",
    "X = torch.rand(4, 3, 6, 6)\n",
    "Y = blk(X)\n",
    "Y.shape"
   ]
  },
  {
   "cell_type": "code",
   "execution_count": 30,
   "id": "7de0d069",
   "metadata": {},
   "outputs": [
    {
     "data": {
      "text/plain": [
       "torch.Size([4, 6, 3, 3])"
      ]
     },
     "execution_count": 30,
     "metadata": {},
     "output_type": "execute_result"
    }
   ],
   "source": [
    "# 增加通道数, 同时减半输出的高宽\n",
    "blk = Residual(3, 6, use_1x1conv=True, strides=2)\n",
    "blk(X).shape"
   ]
  },
  {
   "cell_type": "code",
   "execution_count": 32,
   "id": "37b7ae02",
   "metadata": {},
   "outputs": [],
   "source": [
    "# ResNet模型\n",
    "b1 = nn.Sequential(nn.Conv2d(1, 64, kernel_size=7, stride=2, padding=3),\n",
    "                   nn.BatchNorm2d(64), nn.ReLU(),\n",
    "                   nn.MaxPool2d(kernel_size=3, stride=2, padding=1))\n",
    "def resnet_block(input_channels, num_channels, num_residuals, first_block=False):\n",
    "    blk = []\n",
    "    for i in range(num_residuals):\n",
    "        if i == 0 and not first_block: # 如果不是第一个残差块, 且是目前块的第一残差单元, 那么做步长为2, 1x1的下采样\n",
    "            blk.append(Residual(input_channels, num_channels, use_1x1conv=True,\n",
    "                                strides=2))\n",
    "        else:\n",
    "            # 第一个残差块用于保留原始信息\n",
    "            blk.append(Residual(num_channels, num_channels))\n",
    "    return blk\n",
    "\n",
    "b2 = nn.Sequential(*resnet_block(64, 64, 2, first_block=True))\n",
    "b3 = nn.Sequential(*resnet_block(64, 128, 2))\n",
    "b4 = nn.Sequential(*resnet_block(128, 256, 2))\n",
    "b5 = nn.Sequential(*resnet_block(256, 512, 2))\n",
    "\n",
    "net = nn.Sequential(b1, b2, b3, b4, b5, nn.AdaptiveAvgPool2d((1, 1)),\n",
    "                    nn.Flatten(), nn.Linear(512, 10))"
   ]
  },
  {
   "cell_type": "code",
   "execution_count": 33,
   "id": "52813e8a",
   "metadata": {},
   "outputs": [
    {
     "name": "stdout",
     "output_type": "stream",
     "text": [
      "Sequential output shape:\t torch.Size([1, 64, 56, 56])\n",
      "Sequential output shape:\t torch.Size([1, 64, 56, 56])\n",
      "Sequential output shape:\t torch.Size([1, 128, 28, 28])\n",
      "Sequential output shape:\t torch.Size([1, 256, 14, 14])\n",
      "Sequential output shape:\t torch.Size([1, 512, 7, 7])\n",
      "AdaptiveAvgPool2d output shape:\t torch.Size([1, 512, 1, 1])\n",
      "Flatten output shape:\t torch.Size([1, 512])\n",
      "Linear output shape:\t torch.Size([1, 10])\n"
     ]
    }
   ],
   "source": [
    "# 观察一下网络结构\n",
    "X = torch.rand(size=(1, 1, 224, 224))\n",
    "for layer in net:\n",
    "    X = layer(X)\n",
    "    print(layer.__class__.__name__, 'output shape:\\t', X.shape)"
   ]
  },
  {
   "cell_type": "code",
   "execution_count": null,
   "id": "0908f1ec",
   "metadata": {},
   "outputs": [],
   "source": [
    "lr, num_epochs, batch_size = 0.05, 10, 256\n",
    "train_iter, test_iter = d2l.load_data_fashion_mnist(batch_size, resize=96)\n",
    "d2l.train_ch6(net, train_iter, test_iter, num_epochs, lr, d2l.try_gpu())"
   ]
  }
 ],
 "metadata": {
  "kernelspec": {
   "display_name": "Python 3 (ipykernel)",
   "language": "python",
   "name": "python3"
  },
  "language_info": {
   "codemirror_mode": {
    "name": "ipython",
    "version": 3
   },
   "file_extension": ".py",
   "mimetype": "text/x-python",
   "name": "python",
   "nbconvert_exporter": "python",
   "pygments_lexer": "ipython3",
   "version": "3.10.12"
  }
 },
 "nbformat": 4,
 "nbformat_minor": 5
}
