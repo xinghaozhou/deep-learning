{
 "cells": [
  {
   "cell_type": "code",
   "execution_count": 6,
   "id": "5efbebba",
   "metadata": {},
   "outputs": [],
   "source": [
    "# VGG\n",
    "# AlexNet比LeNet更深更大更好, 能不能更深更大\n",
    "# 选项\n",
    "#  - 更多的全连接层(太贵)\n",
    "#  - 更多的卷积层\n",
    "#  - 将卷积层组合成块\n",
    "\n",
    "# VGG块\n",
    "# 深 vs. 宽\n",
    "#  - 5x5卷积\n",
    "#  - 3x3卷积\n",
    "#  - 深但窄效果更好\n",
    "# VGG块\n",
    "#  - 3x3卷积(填充1), (n层 m通道)\n",
    "#  - 2x2 Maxpool (步幅2)\n",
    "\n",
    "# VGG架构\n",
    "#  - 多个VGG块后接全连接层\n",
    "#  - 不同次数的重复块得到不同的架构, VGG-16, VGG-19\n",
    "\n",
    "# 总结\n",
    "# VGG使用可重复使用的卷积块来构建深度卷积神经网络\n",
    "# 不同的卷积块个数和超参数可以得到不同复杂度的变种"
   ]
  },
  {
   "cell_type": "code",
   "execution_count": 10,
   "id": "f1e5a422",
   "metadata": {},
   "outputs": [],
   "source": [
    "import torch\n",
    "from torch import nn\n",
    "from d2l import torch as d2l\n",
    "\n",
    "def vgg_block(num_convs, in_channels, out_channels):\n",
    "    layers = []\n",
    "    for _ in range(num_convs):\n",
    "        layers.append(nn.Conv2d(\n",
    "            in_channels, out_channels, kernel_size=3, padding=1))\n",
    "        layers.append(nn.ReLU())\n",
    "        in_channels = out_channels # 用完之后换一下\n",
    "    layers.append(nn.MaxPool2d(kernel_size=2, stride=2))\n",
    "    return nn.Sequential(*layers)\n"
   ]
  },
  {
   "cell_type": "code",
   "execution_count": 12,
   "id": "b15dcb36",
   "metadata": {},
   "outputs": [],
   "source": [
    "conv_arch = ((1, 64), (1, 128), (2, 256), (2, 512), (2, 512)) # 第一个数是多少层卷积, 第二个数是输出通道数\n",
    "\n",
    "def vgg(conv_arch):\n",
    "    conv_blks = []\n",
    "    in_channels = 1 #一开始通道数为1\n",
    "    for(num_convs, out_channels) in conv_arch:\n",
    "        conv_blks.append(vgg_block(\n",
    "            num_convs, in_channels, out_channels))\n",
    "        in_channels = out_channels # 将下一块的输入通道数变为上一层的输出通道数\n",
    "     \n",
    "    return nn.Sequential(*conv_blks, nn.Flatten(), \n",
    "            nn.Linear(out_channels * 7 * 7, 4096), nn.ReLU(), # 这里 7*7是因为224除了5次之后就是7\n",
    "            nn.Dropout(p=0.5), nn.Linear(4096, 4096), nn.ReLU(),\n",
    "            nn.Dropout(p=0.5), nn.Linear(4096, 10))\n",
    "net = vgg(conv_arch)"
   ]
  },
  {
   "cell_type": "code",
   "execution_count": 13,
   "id": "8bb068fc",
   "metadata": {},
   "outputs": [
    {
     "name": "stdout",
     "output_type": "stream",
     "text": [
      "Sequential output shape:\t torch.Size([1, 64, 112, 112])\n",
      "Sequential output shape:\t torch.Size([1, 128, 56, 56])\n",
      "Sequential output shape:\t torch.Size([1, 256, 28, 28])\n",
      "Sequential output shape:\t torch.Size([1, 512, 14, 14])\n",
      "Sequential output shape:\t torch.Size([1, 512, 7, 7])\n",
      "Flatten output shape:\t torch.Size([1, 25088])\n",
      "Linear output shape:\t torch.Size([1, 4096])\n",
      "ReLU output shape:\t torch.Size([1, 4096])\n",
      "Dropout output shape:\t torch.Size([1, 4096])\n",
      "Linear output shape:\t torch.Size([1, 4096])\n",
      "ReLU output shape:\t torch.Size([1, 4096])\n",
      "Dropout output shape:\t torch.Size([1, 4096])\n",
      "Linear output shape:\t torch.Size([1, 10])\n"
     ]
    }
   ],
   "source": [
    "# 观察每层的输出情况\n",
    "X = torch.randn(size=(1, 1, 224, 224))\n",
    "for blk in net:\n",
    "    X = blk(X)\n",
    "    print(blk.__class__.__name__, 'output shape:\\t', X.shape)"
   ]
  },
  {
   "cell_type": "code",
   "execution_count": 21,
   "id": "0bf68106",
   "metadata": {},
   "outputs": [],
   "source": [
    "# 因为VGG-11计算量大, 构建一个通道数小的\n",
    "ratio = 4\n",
    "small_conv_arch = [(pair[0], pair[1] // ratio) for pair in conv_arch]\n",
    "net = vgg(small_conv_arch)"
   ]
  },
  {
   "cell_type": "code",
   "execution_count": null,
   "id": "0fc75721",
   "metadata": {},
   "outputs": [],
   "source": [
    "lr, num_epochs, batch_size = 0.05, 10, 128\n",
    "train_iter, test_iter = d2l.load_data_fashion_mnist(batch_size, resize=224)\n",
    "d2l.train_ch6(net, train_iter, test_iter, num_epochs, lr, d2l.try_gpu())"
   ]
  }
 ],
 "metadata": {
  "kernelspec": {
   "display_name": "Python 3 (ipykernel)",
   "language": "python",
   "name": "python3"
  },
  "language_info": {
   "codemirror_mode": {
    "name": "ipython",
    "version": 3
   },
   "file_extension": ".py",
   "mimetype": "text/x-python",
   "name": "python",
   "nbconvert_exporter": "python",
   "pygments_lexer": "ipython3",
   "version": "3.10.12"
  }
 },
 "nbformat": 4,
 "nbformat_minor": 5
}
