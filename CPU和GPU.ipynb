{
 "cells": [
  {
   "cell_type": "code",
   "execution_count": null,
   "id": "8dbaff85",
   "metadata": {},
   "outputs": [],
   "source": [
    "# 提升CPU利用率I\n",
    "# 计算a+b之前, 需要准备数据\n",
    "#  - 主内存 -> L3 -> L2 -> L1 ->寄存器\n",
    "#    - L1访问延时0.5ns\n",
    "#    - L2访问延时7ns\n",
    "#    - 主内存访问延时100ns\n",
    "#  - 提升空间和时间的内存本地性\n",
    "#    - 时间: 重用数据使得保存他们在缓存里\n",
    "#    - 空间: 按序读取数据使得可以预读取\n",
    "\n",
    "# 样例分析\n",
    "# 如果一个矩阵是按行存的, 访问每一行比每一列速度快\n",
    "#   - CPU一次读取64个字节(缓存线)\n",
    "#   - CPU会\"聪明的\"提前读取下一个(缓存线)\n",
    "\n",
    "# 提升CPU利用率II\n",
    "# 高端的CPU有几十个核\n",
    "# 并行来利用所有核\n",
    "#   - 超线程不一定提升性能, 因为它们共享寄存器\n",
    "\n",
    "# 样例分析\n",
    "# 左边比右边慢 \n",
    "# for i in length(a):          c = a+b\n",
    "#   c[i] = a[i] + b[i]\n",
    "#  - 左边调用n次函数, 每次调用都有开销\n",
    "#  - 右边很容易被并行\n",
    "\n",
    "# 提升GPU利用率\n",
    "# 并行\n",
    "#  - 使用上千个线程\n",
    "# 内存本地性\n",
    "#  - 缓存更小, 架构更加简单\n",
    "# 少用控制语句\n",
    "#  - 支持有限\n",
    "#  - 同步开销很大\n",
    "\n",
    "# CPU/GPU带宽\n",
    "# 不要频繁在CPU和GPU之间传递数据: 带宽限制, 同步开销\n",
    "\n",
    "# CPU/GPU高性能计算编程\n",
    "# CPU: C++或任何高性能语言\n",
    "#  - 编译器成熟\n",
    "# GPU: \n",
    "#  - Nvidia上用cuda\n",
    "#    - 编译器和驱动成熟\n",
    "#  - 其他用OpenCL\n",
    "#    - 质量取决于赢家厂家\n",
    "\n",
    "# 总结\n",
    "# CPU: 处理通用计算, 性能优化考虑数据读写效率和多线程\n",
    "# GPU: 使用更多的小核和更好的内存带宽, 适合大规模并行的计算任务"
   ]
  }
 ],
 "metadata": {
  "kernelspec": {
   "display_name": "Python 3 (ipykernel)",
   "language": "python",
   "name": "python3"
  },
  "language_info": {
   "codemirror_mode": {
    "name": "ipython",
    "version": 3
   },
   "file_extension": ".py",
   "mimetype": "text/x-python",
   "name": "python",
   "nbconvert_exporter": "python",
   "pygments_lexer": "ipython3",
   "version": "3.10.9"
  }
 },
 "nbformat": 4,
 "nbformat_minor": 5
}
