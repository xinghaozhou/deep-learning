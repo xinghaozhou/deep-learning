{
 "cells": [
  {
   "cell_type": "code",
   "execution_count": 6,
   "id": "18522427",
   "metadata": {},
   "outputs": [],
   "source": [
    "# 池化层\n",
    "# 积对位置敏感\n",
    "#   - 检测垂直边缘: 1的像素位移导致0的输出\n",
    "#   1 1 0 0 0       0 1 0 0\n",
    "#   1 1 0 0 0   ->  0 1 0 0\n",
    "#   1 1 0 0 0   ->  0 1 0 0\n",
    "#   1 1 0 0 0       0 1 0 0\n",
    "# 需要一定程度的平移不变性\n",
    "#   - 照明, 物体位置, 比例, 外观等等因图像而异\n",
    "# 也就是说如果拍摄时动一动, 就会改变, 所以我们需要平移不变性来稳定\n",
    "\n",
    "# 二维最大池化层\n",
    "#  - 返回滑动窗口中的最大值\n",
    "#  0 1 2  (2x2 pooling)    4 5\n",
    "#  3 4 5      ->           7 8\n",
    "#  6 7 8   max(0,1,3,4)\n",
    "# 能否解决之前的问题？\n",
    "#   1 1 0 0 0   (卷积)   0 1 0 0   pooling  1 1 0\n",
    "#   1 1 0 0 0    ->     0 1 0 0      ->    1 1 0\n",
    "#   1 1 0 0 0    ->     0 1 0 0      ->    1 1 0\n",
    "#   1 1 0 0 0           0 1 0 0            1 1 0\n",
    "# 2x2 pooling 容忍一个像素的偏移\n",
    "\n",
    "# 填充, 步幅和多个通道\n",
    "# 池化层与卷积层类似, 都具有填充和步幅\n",
    "# 没有可以学习的参数\n",
    "# 在每个输入通道应用池化层以获得相应的输出通道\n",
    "# 输出通道 = 输入通道\n",
    "\n",
    "# 平均池化层\n",
    "#  - 最大池化层: 每个窗口中最强的模式型号\n",
    "#  - 平均池化层: 将最大池化层的\"最大\"操作替换为\"平均\"\n",
    "\n",
    "# 总结\n",
    "#  - 池化层返回窗口中最大或平均值\n",
    "#  - 缓解卷积层对位置的敏感性 (通常作用在卷积层之后)\n",
    "#  - 不同在与对每个通道数分别作用, 直接输出, 所以(输入通道数 = 输出通道数)\n",
    "#  - 同样有窗口大小, 填充, 和步幅作为超参数"
   ]
  },
  {
   "cell_type": "code",
   "execution_count": 9,
   "id": "8927818c",
   "metadata": {},
   "outputs": [],
   "source": [
    "# 实现池化层的正向传播\n",
    "import torch\n",
    "from torch import nn\n",
    "from d2l import torch as d2l\n",
    "\n",
    "def pool2d(X, pool_size, mode='max'):\n",
    "    p_w, p_h = pool_size # 得到池化层size\n",
    "    Y = torch.zeros((X.shape[0] - p_h + 1, X.shape[1] - p_w +1)) # 计算输出的大小\n",
    "    for i in range(Y.shape[0]):  # loop through height\n",
    "        for j in range(Y.shape[1]): # loop through width\n",
    "            if mode == 'max':\n",
    "                Y[i, j] = X[i: i+p_h, j: j+p_w].max() # 取X中经过池化层后的最大值, 赋值到Y\n",
    "            if mode == 'avg':\n",
    "                Y[i, j] = X[i: i+p_h, j: j+p_w].mean() # 取X中经过池化层后的平均值, 赋值到Y\n",
    "    return Y"
   ]
  },
  {
   "cell_type": "code",
   "execution_count": 10,
   "id": "12bb510e",
   "metadata": {},
   "outputs": [
    {
     "data": {
      "text/plain": [
       "tensor([[4., 5.],\n",
       "        [7., 8.]])"
      ]
     },
     "execution_count": 10,
     "metadata": {},
     "output_type": "execute_result"
    }
   ],
   "source": [
    "# 验证二维池化层的输出\n",
    "X = torch.tensor([[0.0, 1.0, 2.0], [3.0, 4.0, 5.0], [6.0, 7.0, 8.0]])\n",
    "pool2d(X, (2, 2))"
   ]
  },
  {
   "cell_type": "code",
   "execution_count": 11,
   "id": "2154a713",
   "metadata": {},
   "outputs": [
    {
     "data": {
      "text/plain": [
       "tensor([[2., 3.],\n",
       "        [5., 6.]])"
      ]
     },
     "execution_count": 11,
     "metadata": {},
     "output_type": "execute_result"
    }
   ],
   "source": [
    "# 验证平均汇聚层\n",
    "pool2d(X, (2,2), 'avg')"
   ]
  },
  {
   "cell_type": "code",
   "execution_count": 12,
   "id": "ff711cda",
   "metadata": {},
   "outputs": [
    {
     "data": {
      "text/plain": [
       "tensor([[[[ 0.,  1.,  2.,  3.],\n",
       "          [ 4.,  5.,  6.,  7.],\n",
       "          [ 8.,  9., 10., 11.],\n",
       "          [12., 13., 14., 15.]]]])"
      ]
     },
     "execution_count": 12,
     "metadata": {},
     "output_type": "execute_result"
    }
   ],
   "source": [
    "# 填充和步幅\n",
    "X = torch.arange(16, dtype=torch.float32).reshape((1, 1, 4, 4))\n",
    "X"
   ]
  },
  {
   "cell_type": "code",
   "execution_count": 13,
   "id": "784f30f3",
   "metadata": {},
   "outputs": [
    {
     "data": {
      "text/plain": [
       "tensor([[[[10.]]]])"
      ]
     },
     "execution_count": 13,
     "metadata": {},
     "output_type": "execute_result"
    }
   ],
   "source": [
    "# 深度学习框架中的步幅和池化窗口大小相同\n",
    "pool2d = nn.MaxPool2d(3) # 注意size为3x3, 步幅为3\n",
    "pool2d(X)"
   ]
  },
  {
   "cell_type": "code",
   "execution_count": 14,
   "id": "9c515220",
   "metadata": {},
   "outputs": [
    {
     "data": {
      "text/plain": [
       "tensor([[[[ 5.,  7.],\n",
       "          [13., 15.]]]])"
      ]
     },
     "execution_count": 14,
     "metadata": {},
     "output_type": "execute_result"
    }
   ],
   "source": [
    "# 填充和步幅可以手动设定\n",
    "pool2d = nn.MaxPool2d(3, padding=1, stride=2)\n",
    "pool2d(X)"
   ]
  },
  {
   "cell_type": "code",
   "execution_count": 15,
   "id": "936b27d4",
   "metadata": {},
   "outputs": [
    {
     "data": {
      "text/plain": [
       "tensor([[[[ 1.,  3.],\n",
       "          [ 9., 11.],\n",
       "          [13., 15.]]]])"
      ]
     },
     "execution_count": 15,
     "metadata": {},
     "output_type": "execute_result"
    }
   ],
   "source": [
    "# 设定一个任意大小的矩形池化窗口, 并分别设定填充和步幅的高度和宽度\n",
    "pool2d = nn.MaxPool2d((2, 3), padding=(1,1), stride=(2,3))\n",
    "pool2d(X)"
   ]
  },
  {
   "cell_type": "code",
   "execution_count": 16,
   "id": "770e53a8",
   "metadata": {},
   "outputs": [
    {
     "data": {
      "text/plain": [
       "tensor([[[[ 0.,  1.,  2.,  3.],\n",
       "          [ 4.,  5.,  6.,  7.],\n",
       "          [ 8.,  9., 10., 11.],\n",
       "          [12., 13., 14., 15.]],\n",
       "\n",
       "         [[ 1.,  2.,  3.,  4.],\n",
       "          [ 5.,  6.,  7.,  8.],\n",
       "          [ 9., 10., 11., 12.],\n",
       "          [13., 14., 15., 16.]]]])"
      ]
     },
     "execution_count": 16,
     "metadata": {},
     "output_type": "execute_result"
    }
   ],
   "source": [
    "# 池化层在每个通道上的单独运算\n",
    "X = torch.cat((X, X + 1), 1)\n",
    "X"
   ]
  },
  {
   "cell_type": "code",
   "execution_count": 17,
   "id": "8e4fa525",
   "metadata": {},
   "outputs": [
    {
     "data": {
      "text/plain": [
       "tensor([[[[ 5.,  7.],\n",
       "          [13., 15.]],\n",
       "\n",
       "         [[ 6.,  8.],\n",
       "          [14., 16.]]]])"
      ]
     },
     "execution_count": 17,
     "metadata": {},
     "output_type": "execute_result"
    }
   ],
   "source": [
    "pool2d = nn.MaxPool2d(3, padding=1, stride=2)\n",
    "pool2d(X)"
   ]
  },
  {
   "cell_type": "code",
   "execution_count": null,
   "id": "24c57700",
   "metadata": {},
   "outputs": [],
   "source": []
  }
 ],
 "metadata": {
  "kernelspec": {
   "display_name": "Python 3 (ipykernel)",
   "language": "python",
   "name": "python3"
  },
  "language_info": {
   "codemirror_mode": {
    "name": "ipython",
    "version": 3
   },
   "file_extension": ".py",
   "mimetype": "text/x-python",
   "name": "python",
   "nbconvert_exporter": "python",
   "pygments_lexer": "ipython3",
   "version": "3.10.12"
  }
 },
 "nbformat": 4,
 "nbformat_minor": 5
}
