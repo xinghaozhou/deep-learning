{
 "cells": [
  {
   "cell_type": "code",
   "execution_count": 1,
   "id": "c0af8b7a",
   "metadata": {},
   "outputs": [],
   "source": [
    "# 网络中的网络(NiN)\n",
    "\n",
    "# 全连接层的问题\n",
    "#  - 卷积层需要较少的参数 c_i x c_o x k^2 \n",
    "#  - 但卷积层后的第一个全连接层占了将近所有的参数, 并且会带来过拟合\n",
    "\n",
    "# NiN块\n",
    "# 一个卷积层后跟两个全连接层(1x1卷积相当于全连接层)\n",
    "#  - stride是1, no padding, 输出形状跟卷积层输出一样\n",
    "#  - 起到全连接层的作用\n",
    "#  - 按照输入像素逐一去做的全连接层\n",
    "# 结构 Convolution -> 1x1 Convolution -> 1x1 Convolution\n",
    "\n",
    "# NiN架构\n",
    "#  - 无全连接层\n",
    "#  - 交替使用NiN块和步幅为2的最大池化层\n",
    "#    - 逐步减少高宽和增大通道数\n",
    "#  - 最后使用全局平均池化层得到输出\n",
    "#    - 其输入通道数是类别数\n",
    "# 这里的全局平均池化层是将每个通道的特征图'feature map', 求整个图的平均, 记为一个数字, 这样这个通道就可以被简化为一个单一个数值。\n",
    "# 这个数值可以反应该通道特征在整个输入图像中的重要性。\n",
    "# 最后是输入一个长为(多少类)的向量, 每个值是对这个类别的预测, 再加个softmax就是概率\n",
    "\n",
    "# 也就是说: 假如有1000类作为输入通道, 在全局平均池化层后, 就是对每一个类的平均预测, 也就是重要性;\n",
    "# 1000个类可以理解为1000个特征图, 哪个特征图的权重高, 那么对应的类可能性越大\n",
    "\n",
    "# 结构\n",
    "# - NiN块 11x11 Conv stride 4, 3x3 Maxpool stride 2\n",
    "# - NiN块 5x5 Conv pad 1, 3x3 Maxpool stride 2\n",
    "# - NiN块 3x3 Conv pad 1, 3x3 Maxpool stride 2\n",
    "# - NiN块 3x3 Conv pad 1, Global AvgPool\n",
    "\n",
    "# 总结\n",
    "# - NiN块使用卷积层加两个1x1卷积层, 后者对每个像素增加了非线性性\n",
    "# - NiN使用全局平均池化层来代替VGG和AlexNet的全连接层, 不容易过拟合, 更少的参数"
   ]
  },
  {
   "cell_type": "code",
   "execution_count": 2,
   "id": "f38aac04",
   "metadata": {},
   "outputs": [],
   "source": [
    "# NiN\n",
    "import torch\n",
    "from torch import nn\n",
    "from d2l import torch as d2l\n",
    "\n",
    "def nin_block(in_channels, out_channels, kernel_size, stride, padding):\n",
    "    return nn.Sequential(\n",
    "        nn.Conv2d(in_channels, out_channels, kernel_size, stride, padding),\n",
    "        nn.ReLU(), nn.Conv2d(out_channels, out_channels, kernel_size=1),\n",
    "        nn.ReLU(), nn.Conv2d(out_channels, out_channels, kernel_size=1),\n",
    "        nn.ReLU())"
   ]
  },
  {
   "cell_type": "code",
   "execution_count": 4,
   "id": "be3ffac8",
   "metadata": {},
   "outputs": [],
   "source": [
    "net = nn.Sequential(\n",
    "    nin_block(1, 96, kernel_size=11, stride=4, padding=1), \n",
    "    nn.MaxPool2d(3, stride=2),\n",
    "    nin_block(96, 256, kernel_size=5, stride=1, padding=2),\n",
    "    nn.MaxPool2d(3, stride=2),\n",
    "    nin_block(256, 384, kernel_size=3, stride=1, padding=1),\n",
    "    nn.MaxPool2d(3, stride=2), nn.Dropout(0.5),\n",
    "    nin_block(384, 10, kernel_size=3, stride=1, padding=1), # 10是类别的个数\n",
    "    nn.AdaptiveAvgPool2d((1, 1)), # 高宽都变成1的平均池化层\n",
    "    nn.Flatten()) # 最后flatten变成batch_size x 10的东西"
   ]
  },
  {
   "cell_type": "code",
   "execution_count": 5,
   "id": "e192afdc",
   "metadata": {},
   "outputs": [
    {
     "name": "stdout",
     "output_type": "stream",
     "text": [
      "Sequential output shape:\t torch.Size([1, 96, 54, 54])\n",
      "MaxPool2d output shape:\t torch.Size([1, 96, 26, 26])\n",
      "Sequential output shape:\t torch.Size([1, 256, 26, 26])\n",
      "MaxPool2d output shape:\t torch.Size([1, 256, 12, 12])\n",
      "Sequential output shape:\t torch.Size([1, 384, 12, 12])\n",
      "MaxPool2d output shape:\t torch.Size([1, 384, 5, 5])\n",
      "Dropout output shape:\t torch.Size([1, 384, 5, 5])\n",
      "Sequential output shape:\t torch.Size([1, 10, 5, 5])\n",
      "AdaptiveAvgPool2d output shape:\t torch.Size([1, 10, 1, 1])\n",
      "Flatten output shape:\t torch.Size([1, 10])\n"
     ]
    }
   ],
   "source": [
    "X = torch.rand(size=(1, 1, 224, 224))\n",
    "for layer in net:\n",
    "    X = layer(X)\n",
    "    print(layer.__class__.__name__, 'output shape:\\t', X.shape)"
   ]
  },
  {
   "cell_type": "code",
   "execution_count": null,
   "id": "8efca754",
   "metadata": {},
   "outputs": [
    {
     "name": "stdout",
     "output_type": "stream",
     "text": [
      "training on cpu\n"
     ]
    }
   ],
   "source": [
    "lr, num_epochs, batch_size = 0.1, 10, 128\n",
    "train_iter, test_iter = d2l.load_data_fashion_mnist(batch_size, resize=224)\n",
    "d2l.train_ch6(net, train_iter, test_iter, num_epochs, lr, d2l.try_gpu())"
   ]
  },
  {
   "cell_type": "code",
   "execution_count": null,
   "id": "b3a37fe0",
   "metadata": {},
   "outputs": [],
   "source": []
  }
 ],
 "metadata": {
  "kernelspec": {
   "display_name": "Python 3 (ipykernel)",
   "language": "python",
   "name": "python3"
  },
  "language_info": {
   "codemirror_mode": {
    "name": "ipython",
    "version": 3
   },
   "file_extension": ".py",
   "mimetype": "text/x-python",
   "name": "python",
   "nbconvert_exporter": "python",
   "pygments_lexer": "ipython3",
   "version": "3.10.12"
  }
 },
 "nbformat": 4,
 "nbformat_minor": 5
}
